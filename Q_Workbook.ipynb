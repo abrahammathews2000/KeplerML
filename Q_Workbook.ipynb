{
 "cells": [
  {
   "cell_type": "markdown",
   "metadata": {},
   "source": [
    "This workbook is intended to be used to work on a single quarter of Kepler data at a time. It has not been developed to run sequentially, but rather is a space to play with different methods."
   ]
  },
  {
   "cell_type": "code",
   "execution_count": 1,
   "metadata": {},
   "outputs": [],
   "source": [
    "import sys\n",
    "import matplotlib\n",
    "matplotlib.use('TkAgg')\n",
    "import matplotlib.pyplot as plt\n",
    "from matplotlib.figure import Figure\n",
    "from matplotlib.backends.backend_tkagg import FigureCanvasTkAgg, NavigationToolbar2Tk\n",
    "from matplotlib import colors\n",
    "import matplotlib.cm as cmx\n",
    "import matplotlib.gridspec as gridspec\n",
    "import numpy as np\n",
    "np.set_printoptions(threshold=sys.maxsize)\n",
    "import pandas as pd\n",
    "import seaborn as sns\n",
    "import pickle\n",
    "if sys.version_info[0] < 3:\n",
    "    import Tkinter as Tk\n",
    "    from tkFileDialog import askopenfilename,askdirectory,asksaveasfile\n",
    "else:\n",
    "    import tkinter as Tk\n",
    "    from tkinter.filedialog import askopenfilename,askdirectory,asksaveasfile\n",
    "    \n",
    "sys.path.append('python')\n",
    "from clusterOutliers import clusterOutliers\n",
    "import keplerml"
   ]
  },
  {
   "cell_type": "markdown",
   "metadata": {},
   "source": [
    "## Import the features created with keplerml.py"
   ]
  },
  {
   "cell_type": "markdown",
   "metadata": {},
   "source": [
    "!!! ONLY OPEN PICKLED FILES YOU KNOW ARE SAFE !!!\n",
    "\n",
    "We prefer pickling over other methods for speed and data preservation, but for the examples here we provide features in a csv format since unpickling unknown files can run arbitrary code. While we provide pickled example data for consistency in how we have handled data, feel free to use the csv data for example purposes. "
   ]
  },
  {
   "cell_type": "code",
   "execution_count": 19,
   "metadata": {},
   "outputs": [],
   "source": []
  },
  {
   "cell_type": "code",
   "execution_count": 27,
   "metadata": {},
   "outputs": [],
   "source": [
    "# User defined\n",
    "path_to_fits = \"/home/dgiles/Documents/KeplerLCs/fitsFiles/Q8fitsfiles/\" # path to fits file directory, fits files must be local\n",
    "                                                                    # remote access to light curves in progress\n",
    "\n",
    "# We use a cluster outlier object to contain the analysis products for each quarter. \n",
    "# The object contains methods for clustering and scoring using preset parameters.\n",
    "# Currently, clusterOutlier objects can be created with a path to a csv or pickled dataframe, or directly from a dataframe.\n",
    "\n",
    "# Via csv:\n",
    "path_to_features = \"./data/output/Q8_sample.csv\"\n",
    "Q8coo = clusterOutliers(feats=path_to_features,fitsDir=path_to_fits,output_file='Q8_sample.coo')\n",
    "\n",
    "# Pickled dataframe:\n",
    "#path_to_features = \"./data/output/Q8_sample.p\"\n",
    "#Q8coo = clusterOutliers(path_to_features,fitsDir,'Q8_sample.coo')\n",
    "\n",
    "# User imported dataframe:\n",
    "#Q8_features = pd.read_csv(path_to_features,index_col=0)\n",
    "#Q8coo = clusterOutliers(Q8_features,fitsDir,'Q8_sample.coo')\n",
    "\n",
    "# Existing cluster outlier object:\n",
    "#from clusterOutliers import load_coo\n",
    "#load_coo('Q8_sample.coo')"
   ]
  },
  {
   "cell_type": "code",
   "execution_count": null,
   "metadata": {},
   "outputs": [],
   "source": []
  }
 ],
 "metadata": {
  "anaconda-cloud": {},
  "kernelspec": {
   "display_name": "Python 3",
   "language": "python",
   "name": "python3"
  },
  "language_info": {
   "codemirror_mode": {
    "name": "ipython",
    "version": 3
   },
   "file_extension": ".py",
   "mimetype": "text/x-python",
   "name": "python",
   "nbconvert_exporter": "python",
   "pygments_lexer": "ipython3",
   "version": "3.7.3"
  }
 },
 "nbformat": 4,
 "nbformat_minor": 2
}
