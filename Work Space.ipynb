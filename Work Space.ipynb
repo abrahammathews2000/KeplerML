{
 "cells": [
  {
   "cell_type": "code",
   "execution_count": 37,
   "metadata": {
    "collapsed": false,
    "deletable": true,
    "editable": true
   },
   "outputs": [
    {
     "data": {
      "image/png": "[encoded data removed]",
      "text/plain": [
       "<matplotlib.figure.Figure at 0x7f9712d45390>"
      ]
     },
     "metadata": {},
     "output_type": "display_data"
    },
    {
     "data": {
      "image/png": "[encoded data removed]",
      "text/plain": [
       "<matplotlib.figure.Figure at 0x7f9713304a90>"
      ]
     },
     "metadata": {},
     "output_type": "display_data"
    }
   ],
   "source": [
    "import matplotlib\n",
    "import matplotlib.pyplot as plt\n",
    "from matplotlib.figure import Figure\n",
    "%matplotlib inline\n",
    "x = [1,2,3,4,5]\n",
    "y = [1,2,3,4,5]\n",
    "plt.figure(1)\n",
    "ax1 = plt.subplot(441)\n",
    "ax1.set_title('Fig 1')\n",
    "ax1.scatter(x,y)\n",
    "ax2 = plt.subplot(412)\n",
    "ax2.scatter(x,y)\n",
    "ax2.set_title('Fig 2')\n",
    "plt.figure(2)\n",
    "ax3 = plt.subplot(413)\n",
    "plt.ylabel('normalized flux')\n",
    "ax3.scatter(x,y)\n",
    "ax3.set_title('Fig 3')\n",
    "ax4 = plt.subplot(414)\n",
    "ax4.plot(x,y)\n",
    "ax4.set_title('Fig 4')\n",
    "plt.xlabel('time')\n",
    "plt.tight_layout()\n",
    "plt.show()\n"
   ]
  },
  {
   "cell_type": "code",
   "execution_count": 43,
   "metadata": {
    "collapsed": false
   },
   "outputs": [
    {
     "data": {
      "text/html": [
       "<div>\n",
       "<table border=\"1\" class=\"dataframe\">\n",
       "  <thead>\n",
       "    <tr style=\"text-align: right;\">\n",
       "      <th></th>\n",
       "      <th>f1</th>\n",
       "      <th>f2</th>\n",
       "      <th>f3</th>\n",
       "      <th>f4</th>\n",
       "    </tr>\n",
       "  </thead>\n",
       "  <tbody>\n",
       "    <tr>\n",
       "      <th>alpha</th>\n",
       "      <td>[1, 2, 3]</td>\n",
       "      <td>1</td>\n",
       "      <td>1</td>\n",
       "      <td>[1, 2, 3]</td>\n",
       "    </tr>\n",
       "    <tr>\n",
       "      <th>bravo</th>\n",
       "      <td>[2, 3, 1]</td>\n",
       "      <td>2</td>\n",
       "      <td>2</td>\n",
       "      <td>[2, 3, 1]</td>\n",
       "    </tr>\n",
       "    <tr>\n",
       "      <th>charlie</th>\n",
       "      <td>[3, 1, 2]</td>\n",
       "      <td>3</td>\n",
       "      <td>3</td>\n",
       "      <td>[3, 1, 2]</td>\n",
       "    </tr>\n",
       "  </tbody>\n",
       "</table>\n",
       "</div>"
      ],
      "text/plain": [
       "                f1  f2  f3         f4\n",
       "alpha    [1, 2, 3]   1   1  [1, 2, 3]\n",
       "bravo    [2, 3, 1]   2   2  [2, 3, 1]\n",
       "charlie  [3, 1, 2]   3   3  [3, 1, 2]"
      ]
     },
     "execution_count": 43,
     "metadata": {},
     "output_type": "execute_result"
    }
   ],
   "source": [
    "# import pandas as pd\n",
    "import numpy as np\n",
    "import pandas as pd\n",
    "f1 = [[1,2,3],[2,3,1],[3,1,2]]\n",
    "f2 = f3 = [1,2,3]\n",
    "df = pd.DataFrame({'f1':f1,'f2':f2,'f3':f3},index=['alpha','bravo','charlie'])\n",
    "df['f4']=list(np.array([[1,2,3],[2,3,1],[3,1,2]]))\n",
    "df"
   ]
  },
  {
   "cell_type": "code",
   "execution_count": 22,
   "metadata": {
    "collapsed": false
   },
   "outputs": [
    {
     "data": {
      "text/plain": [
       "True"
      ]
     },
     "execution_count": 22,
     "metadata": {},
     "output_type": "execute_result"
    }
   ],
   "source": [
    "df.f1['alpha'][0] == df.f1[0][0]"
   ]
  },
  {
   "cell_type": "code",
   "execution_count": 58,
   "metadata": {
    "collapsed": false
   },
   "outputs": [
    {
     "data": {
      "text/plain": [
       "True"
      ]
     },
     "execution_count": 58,
     "metadata": {},
     "output_type": "execute_result"
    }
   ],
   "source": [
    "'KPLR'==df2.index[0]"
   ]
  },
  {
   "cell_type": "code",
   "execution_count": 1,
   "metadata": {
    "collapsed": false
   },
   "outputs": [
    {
     "name": "stderr",
     "output_type": "stream",
     "text": [
      "numbapro:1: ImportWarning: The numbapro package is deprecated in favour of the accelerate package. Please update your code to use equivalent functions from accelerate.\n",
      "/home/dgiles/anaconda/lib/python2.7/site-packages/numba/cuda/decorators.py:107: UserWarning: autojit is deprecated and will be removed in a future release. Use jit instead.\n",
      "  warn('autojit is deprecated and will be removed in a future release. Use jit instead.')\n"
     ]
    },
    {
     "name": "stdout",
     "output_type": "stream",
     "text": [
      "10000\n"
     ]
    },
    {
     "data": {
      "text/plain": [
       "array([  0.00000000e+00,   5.00000000e+01,   1.00000000e+02, ...,\n",
       "         4.99850000e+05,   4.99900000e+05,   4.99950000e+05])"
      ]
     },
     "execution_count": 1,
     "metadata": {},
     "output_type": "execute_result"
    }
   ],
   "source": [
    "from numbapro import cuda\n",
    "import numpy as np\n",
    "\n",
    "@cuda.autojit\n",
    "def clusterIndsCuda(da,db):\n",
    "    bx = cuda.blockIdx.x # which block in the grid?\n",
    "    bw = cuda.blockDim.x # what is the size of a block?\n",
    "    tx = cuda.threadIdx.x # unique thread ID within a blcok\n",
    "    i = tx + bx * bw\n",
    "        \n",
    "    if i<=len(da):\n",
    "        db[i]=da[i]*spam\n",
    "    else:\n",
    "        return\n",
    "    \n",
    "def main():\n",
    "    global spam\n",
    "    spam = 50\n",
    "\n",
    "    # Allocate host memory arrays\n",
    "    a = np.arange(10000)\n",
    "    N = len(a)\n",
    "    b = np.empty(N)\n",
    "    \n",
    "    # Allocate and copy GPU/device memory\n",
    "    d_a = cuda.to_device(a)\n",
    "    d_b = cuda.to_device(b)\n",
    "    threads_per_block = 128\n",
    "    number_of_blocks =N/128+1 ## FIXME: given the threads_per_block is set, determine how many blocks we need ##\n",
    "\n",
    "    clusterIndsCuda [ number_of_blocks, threads_per_block ] (d_a,d_b) ## FIXME: what variables do we pass? ##, N \n",
    "\n",
    "    ## FIXME: copy the vector c from the GPU back to the host ##\n",
    "    d_b.copy_to_host(b)\n",
    "    print(len(b))\n",
    "    return b\n",
    "main() # Execute the program"
   ]
  },
  {
   "cell_type": "code",
   "execution_count": 26,
   "metadata": {
    "collapsed": false
   },
   "outputs": [
    {
     "name": "stdout",
     "output_type": "stream",
     "text": [
      "Importing lightcurve data from data/Training_set_lightcurves/\n",
      "Finished importing lightcurve data.\n"
     ]
    }
   ],
   "source": [
    "import pandas as pd\n",
    "from multiprocessing import Pool,cpu_count\n",
    "import sys\n",
    "sys.path.append('python')\n",
    "import keplerml\n",
    "def poolRKC(fitsDir,files):\n",
    "        # Read in kepler curves in parallel. \n",
    "        # Returns array containing of arrays of [t,nf,err] for each lc.\n",
    "        numcpus = cpu_count()\n",
    "        fwp = fitsDir+\"/\"+files\n",
    "        print(\"Importing lightcurve data from %s\"%fitsDir)\n",
    "        p = Pool(numcpus)\n",
    "        lcs = p.map(keplerml.read_kepler_curve,fwp)\n",
    "        p.close()\n",
    "        p.join\n",
    "        print(\"Finished importing lightcurve data.\")\n",
    "        return lcs\n",
    "    \n",
    "data = pd.read_csv('data/output/out.csv',index_col=0)\n",
    "global fitsDir\n",
    "fitsDir = 'data/Training_set_lightcurves/'\n",
    "files = data.index\n",
    "global lcs\n",
    "lcs = np.array(poolRKC(fitsDir,files))"
   ]
  },
  {
   "cell_type": "code",
   "execution_count": 36,
   "metadata": {
    "collapsed": false
   },
   "outputs": [
    {
     "ename": "UntypedAttributeError",
     "evalue": "Caused By:\nTraceback (most recent call last):\n  File \"/home/dgiles/anaconda/lib/python2.7/site-packages/numba/compiler.py\", line 243, in run\n    res = stage()\n  File \"/home/dgiles/anaconda/lib/python2.7/site-packages/numba/compiler.py\", line 463, in stage_nopython_frontend\n    self.locals)\n  File \"/home/dgiles/anaconda/lib/python2.7/site-packages/numba/compiler.py\", line 780, in type_inference_stage\n    infer.propagate()\n  File \"/home/dgiles/anaconda/lib/python2.7/site-packages/numba/typeinfer.py\", line 565, in propagate\n    raise errors[0]\nUntypedAttributeError: Unknown attribute \"mean\" of type Module(<module 'numpy' from '/home/dgiles/anaconda/lib/python2.7/site-packages/numpy/__init__.pyc'>)\nFile \"<ipython-input-36-afafb6a0be02>\", line 14\n\nFailed at nopython (nopython frontend)\nUnknown attribute \"mean\" of type Module(<module 'numpy' from '/home/dgiles/anaconda/lib/python2.7/site-packages/numpy/__init__.pyc'>)\nFile \"<ipython-input-36-afafb6a0be02>\", line 14",
     "output_type": "error",
     "traceback": [
      "\u001b[1;31m---------------------------------------------------------------------------\u001b[0m",
      "\u001b[1;31mUntypedAttributeError\u001b[0m                     Traceback (most recent call last)",
      "\u001b[1;32m<ipython-input-36-afafb6a0be02>\u001b[0m in \u001b[0;36m<module>\u001b[1;34m()\u001b[0m\n\u001b[0;32m     40\u001b[0m     \u001b[1;32mprint\u001b[0m\u001b[1;33m(\u001b[0m\u001b[0mlen\u001b[0m\u001b[1;33m(\u001b[0m\u001b[0mtest\u001b[0m\u001b[1;33m)\u001b[0m\u001b[1;33m)\u001b[0m\u001b[1;33m\u001b[0m\u001b[0m\n\u001b[0;32m     41\u001b[0m     \u001b[1;32mreturn\u001b[0m \u001b[0mtest\u001b[0m\u001b[1;33m\u001b[0m\u001b[0m\n\u001b[1;32m---> 42\u001b[1;33m \u001b[0mtest\u001b[0m \u001b[1;33m=\u001b[0m \u001b[0mmain\u001b[0m\u001b[1;33m(\u001b[0m\u001b[0mfiles\u001b[0m\u001b[1;33m)\u001b[0m\u001b[1;33m\u001b[0m\u001b[0m\n\u001b[0m\u001b[0;32m     43\u001b[0m \u001b[1;32mprint\u001b[0m\u001b[1;33m(\u001b[0m\u001b[0mtest\u001b[0m\u001b[1;33m[\u001b[0m\u001b[1;36m0\u001b[0m\u001b[1;33m]\u001b[0m\u001b[1;33m)\u001b[0m\u001b[1;33m\u001b[0m\u001b[0m\n",
      "\u001b[1;32m<ipython-input-36-afafb6a0be02>\u001b[0m in \u001b[0;36mmain\u001b[1;34m(files)\u001b[0m\n\u001b[0;32m     34\u001b[0m     \u001b[0mnumber_of_blocks\u001b[0m \u001b[1;33m=\u001b[0m\u001b[0mN\u001b[0m\u001b[1;33m/\u001b[0m\u001b[1;36m128\u001b[0m\u001b[1;33m+\u001b[0m\u001b[1;36m1\u001b[0m \u001b[1;31m## FIXME: given the threads_per_block is set, determine how many blocks we need ##\u001b[0m\u001b[1;33m\u001b[0m\u001b[0m\n\u001b[0;32m     35\u001b[0m \u001b[1;33m\u001b[0m\u001b[0m\n\u001b[1;32m---> 36\u001b[1;33m     \u001b[0mclusterIndsCuda\u001b[0m \u001b[1;33m[\u001b[0m \u001b[0mnumber_of_blocks\u001b[0m\u001b[1;33m,\u001b[0m \u001b[0mthreads_per_block\u001b[0m \u001b[1;33m]\u001b[0m \u001b[1;33m(\u001b[0m\u001b[0md_t\u001b[0m\u001b[1;33m,\u001b[0m\u001b[0md_nf\u001b[0m\u001b[1;33m,\u001b[0m\u001b[0md_length\u001b[0m\u001b[1;33m,\u001b[0m\u001b[0md_test\u001b[0m\u001b[1;33m)\u001b[0m \u001b[1;31m## FIXME: what variables do we pass? ##, N\u001b[0m\u001b[1;33m\u001b[0m\u001b[0m\n\u001b[0m\u001b[0;32m     37\u001b[0m \u001b[1;33m\u001b[0m\u001b[0m\n\u001b[0;32m     38\u001b[0m     \u001b[1;31m## FIXME: copy the vector c from the GPU back to the host ##\u001b[0m\u001b[1;33m\u001b[0m\u001b[1;33m\u001b[0m\u001b[0m\n",
      "\u001b[1;32m/home/dgiles/anaconda/lib/python2.7/site-packages/numba/cuda/compiler.pyc\u001b[0m in \u001b[0;36m__call__\u001b[1;34m(self, *args)\u001b[0m\n\u001b[0;32m    570\u001b[0m         \u001b[0mSpecialize\u001b[0m \u001b[1;32mand\u001b[0m \u001b[0minvoke\u001b[0m \u001b[0mthis\u001b[0m \u001b[0mkernel\u001b[0m \u001b[1;32mwith\u001b[0m \u001b[1;33m*\u001b[0m\u001b[0margs\u001b[0m\u001b[1;33m*\u001b[0m\u001b[1;33m.\u001b[0m\u001b[1;33m\u001b[0m\u001b[0m\n\u001b[0;32m    571\u001b[0m         '''\n\u001b[1;32m--> 572\u001b[1;33m         \u001b[0mkernel\u001b[0m \u001b[1;33m=\u001b[0m \u001b[0mself\u001b[0m\u001b[1;33m.\u001b[0m\u001b[0mspecialize\u001b[0m\u001b[1;33m(\u001b[0m\u001b[1;33m*\u001b[0m\u001b[0margs\u001b[0m\u001b[1;33m)\u001b[0m\u001b[1;33m\u001b[0m\u001b[0m\n\u001b[0m\u001b[0;32m    573\u001b[0m         \u001b[0mcfg\u001b[0m \u001b[1;33m=\u001b[0m \u001b[0mkernel\u001b[0m\u001b[1;33m[\u001b[0m\u001b[0mself\u001b[0m\u001b[1;33m.\u001b[0m\u001b[0mgriddim\u001b[0m\u001b[1;33m,\u001b[0m \u001b[0mself\u001b[0m\u001b[1;33m.\u001b[0m\u001b[0mblockdim\u001b[0m\u001b[1;33m,\u001b[0m \u001b[0mself\u001b[0m\u001b[1;33m.\u001b[0m\u001b[0mstream\u001b[0m\u001b[1;33m,\u001b[0m \u001b[0mself\u001b[0m\u001b[1;33m.\u001b[0m\u001b[0msharedmem\u001b[0m\u001b[1;33m]\u001b[0m\u001b[1;33m\u001b[0m\u001b[0m\n\u001b[0;32m    574\u001b[0m         \u001b[0mcfg\u001b[0m\u001b[1;33m(\u001b[0m\u001b[1;33m*\u001b[0m\u001b[0margs\u001b[0m\u001b[1;33m)\u001b[0m\u001b[1;33m\u001b[0m\u001b[0m\n",
      "\u001b[1;32m/home/dgiles/anaconda/lib/python2.7/site-packages/numba/cuda/compiler.pyc\u001b[0m in \u001b[0;36mspecialize\u001b[1;34m(self, *args)\u001b[0m\n\u001b[0;32m    586\u001b[0m                 \u001b[0mself\u001b[0m\u001b[1;33m.\u001b[0m\u001b[0mtargetoptions\u001b[0m\u001b[1;33m[\u001b[0m\u001b[1;34m'link'\u001b[0m\u001b[1;33m]\u001b[0m \u001b[1;33m=\u001b[0m \u001b[1;33m(\u001b[0m\u001b[1;33m)\u001b[0m\u001b[1;33m\u001b[0m\u001b[0m\n\u001b[0;32m    587\u001b[0m             kernel = compile_kernel(self.py_func, argtypes,\n\u001b[1;32m--> 588\u001b[1;33m                                     **self.targetoptions)\n\u001b[0m\u001b[0;32m    589\u001b[0m             \u001b[0mself\u001b[0m\u001b[1;33m.\u001b[0m\u001b[0mdefinitions\u001b[0m\u001b[1;33m[\u001b[0m\u001b[0margtypes\u001b[0m\u001b[1;33m]\u001b[0m \u001b[1;33m=\u001b[0m \u001b[0mkernel\u001b[0m\u001b[1;33m\u001b[0m\u001b[0m\n\u001b[0;32m    590\u001b[0m             \u001b[1;32mif\u001b[0m \u001b[0mself\u001b[0m\u001b[1;33m.\u001b[0m\u001b[0mbind\u001b[0m\u001b[1;33m:\u001b[0m\u001b[1;33m\u001b[0m\u001b[0m\n",
      "\u001b[1;32m/home/dgiles/anaconda/lib/python2.7/site-packages/numba/cuda/compiler.pyc\u001b[0m in \u001b[0;36mcompile_kernel\u001b[1;34m(pyfunc, args, link, debug, inline, fastmath)\u001b[0m\n\u001b[0;32m     48\u001b[0m def compile_kernel(pyfunc, args, link, debug=False, inline=False,\n\u001b[0;32m     49\u001b[0m                    fastmath=False):\n\u001b[1;32m---> 50\u001b[1;33m     \u001b[0mcres\u001b[0m \u001b[1;33m=\u001b[0m \u001b[0mcompile_cuda\u001b[0m\u001b[1;33m(\u001b[0m\u001b[0mpyfunc\u001b[0m\u001b[1;33m,\u001b[0m \u001b[0mtypes\u001b[0m\u001b[1;33m.\u001b[0m\u001b[0mvoid\u001b[0m\u001b[1;33m,\u001b[0m \u001b[0margs\u001b[0m\u001b[1;33m,\u001b[0m \u001b[0mdebug\u001b[0m\u001b[1;33m=\u001b[0m\u001b[0mdebug\u001b[0m\u001b[1;33m,\u001b[0m \u001b[0minline\u001b[0m\u001b[1;33m=\u001b[0m\u001b[0minline\u001b[0m\u001b[1;33m)\u001b[0m\u001b[1;33m\u001b[0m\u001b[0m\n\u001b[0m\u001b[0;32m     51\u001b[0m     \u001b[0mfunc\u001b[0m \u001b[1;33m=\u001b[0m \u001b[0mcres\u001b[0m\u001b[1;33m.\u001b[0m\u001b[0mlibrary\u001b[0m\u001b[1;33m.\u001b[0m\u001b[0mget_function\u001b[0m\u001b[1;33m(\u001b[0m\u001b[0mcres\u001b[0m\u001b[1;33m.\u001b[0m\u001b[0mfndesc\u001b[0m\u001b[1;33m.\u001b[0m\u001b[0mllvm_func_name\u001b[0m\u001b[1;33m)\u001b[0m\u001b[1;33m\u001b[0m\u001b[0m\n\u001b[0;32m     52\u001b[0m     kernel = cres.target_context.prepare_cuda_kernel(func,\n",
      "\u001b[1;32m/home/dgiles/anaconda/lib/python2.7/site-packages/numba/cuda/compiler.pyc\u001b[0m in \u001b[0;36mcompile_cuda\u001b[1;34m(pyfunc, return_type, args, debug, inline)\u001b[0m\n\u001b[0;32m     38\u001b[0m                                   \u001b[0mreturn_type\u001b[0m\u001b[1;33m=\u001b[0m\u001b[0mreturn_type\u001b[0m\u001b[1;33m,\u001b[0m\u001b[1;33m\u001b[0m\u001b[0m\n\u001b[0;32m     39\u001b[0m                                   \u001b[0mflags\u001b[0m\u001b[1;33m=\u001b[0m\u001b[0mflags\u001b[0m\u001b[1;33m,\u001b[0m\u001b[1;33m\u001b[0m\u001b[0m\n\u001b[1;32m---> 40\u001b[1;33m                                   locals={})\n\u001b[0m\u001b[0;32m     41\u001b[0m \u001b[1;33m\u001b[0m\u001b[0m\n\u001b[0;32m     42\u001b[0m     \u001b[0mlibrary\u001b[0m \u001b[1;33m=\u001b[0m \u001b[0mcres\u001b[0m\u001b[1;33m.\u001b[0m\u001b[0mlibrary\u001b[0m\u001b[1;33m\u001b[0m\u001b[0m\n",
      "\u001b[1;32m/home/dgiles/anaconda/lib/python2.7/site-packages/numba/compiler.pyc\u001b[0m in \u001b[0;36mcompile_extra\u001b[1;34m(typingctx, targetctx, func, args, return_type, flags, locals, library)\u001b[0m\n\u001b[0;32m    663\u001b[0m     pipeline = Pipeline(typingctx, targetctx, library,\n\u001b[0;32m    664\u001b[0m                         args, return_type, flags, locals)\n\u001b[1;32m--> 665\u001b[1;33m     \u001b[1;32mreturn\u001b[0m \u001b[0mpipeline\u001b[0m\u001b[1;33m.\u001b[0m\u001b[0mcompile_extra\u001b[0m\u001b[1;33m(\u001b[0m\u001b[0mfunc\u001b[0m\u001b[1;33m)\u001b[0m\u001b[1;33m\u001b[0m\u001b[0m\n\u001b[0m\u001b[0;32m    666\u001b[0m \u001b[1;33m\u001b[0m\u001b[0m\n\u001b[0;32m    667\u001b[0m \u001b[1;33m\u001b[0m\u001b[0m\n",
      "\u001b[1;32m/home/dgiles/anaconda/lib/python2.7/site-packages/numba/compiler.pyc\u001b[0m in \u001b[0;36mcompile_extra\u001b[1;34m(self, func)\u001b[0m\n\u001b[0;32m    364\u001b[0m                 \u001b[1;32mraise\u001b[0m \u001b[0me\u001b[0m\u001b[1;33m\u001b[0m\u001b[0m\n\u001b[0;32m    365\u001b[0m \u001b[1;33m\u001b[0m\u001b[0m\n\u001b[1;32m--> 366\u001b[1;33m         \u001b[1;32mreturn\u001b[0m \u001b[0mself\u001b[0m\u001b[1;33m.\u001b[0m\u001b[0mcompile_bytecode\u001b[0m\u001b[1;33m(\u001b[0m\u001b[0mbc\u001b[0m\u001b[1;33m,\u001b[0m \u001b[0mfunc_attr\u001b[0m\u001b[1;33m=\u001b[0m\u001b[0mself\u001b[0m\u001b[1;33m.\u001b[0m\u001b[0mfunc_attr\u001b[0m\u001b[1;33m)\u001b[0m\u001b[1;33m\u001b[0m\u001b[0m\n\u001b[0m\u001b[0;32m    367\u001b[0m \u001b[1;33m\u001b[0m\u001b[0m\n\u001b[0;32m    368\u001b[0m     def compile_bytecode(self, bc, lifted=(), lifted_from=None,\n",
      "\u001b[1;32m/home/dgiles/anaconda/lib/python2.7/site-packages/numba/compiler.pyc\u001b[0m in \u001b[0;36mcompile_bytecode\u001b[1;34m(self, bc, lifted, lifted_from, func_attr)\u001b[0m\n\u001b[0;32m    373\u001b[0m         \u001b[0mself\u001b[0m\u001b[1;33m.\u001b[0m\u001b[0mlifted_from\u001b[0m \u001b[1;33m=\u001b[0m \u001b[0mlifted_from\u001b[0m\u001b[1;33m\u001b[0m\u001b[0m\n\u001b[0;32m    374\u001b[0m         \u001b[0mself\u001b[0m\u001b[1;33m.\u001b[0m\u001b[0mfunc_attr\u001b[0m \u001b[1;33m=\u001b[0m \u001b[0mfunc_attr\u001b[0m\u001b[1;33m\u001b[0m\u001b[0m\n\u001b[1;32m--> 375\u001b[1;33m         \u001b[1;32mreturn\u001b[0m \u001b[0mself\u001b[0m\u001b[1;33m.\u001b[0m\u001b[0m_compile_bytecode\u001b[0m\u001b[1;33m(\u001b[0m\u001b[1;33m)\u001b[0m\u001b[1;33m\u001b[0m\u001b[0m\n\u001b[0m\u001b[0;32m    376\u001b[0m \u001b[1;33m\u001b[0m\u001b[0m\n\u001b[0;32m    377\u001b[0m     \u001b[1;32mdef\u001b[0m \u001b[0mcompile_internal\u001b[0m\u001b[1;33m(\u001b[0m\u001b[0mself\u001b[0m\u001b[1;33m,\u001b[0m \u001b[0mbc\u001b[0m\u001b[1;33m,\u001b[0m \u001b[0mfunc_attr\u001b[0m\u001b[1;33m=\u001b[0m\u001b[0mDEFAULT_FUNCTION_ATTRIBUTES\u001b[0m\u001b[1;33m)\u001b[0m\u001b[1;33m:\u001b[0m\u001b[1;33m\u001b[0m\u001b[0m\n",
      "\u001b[1;32m/home/dgiles/anaconda/lib/python2.7/site-packages/numba/compiler.pyc\u001b[0m in \u001b[0;36m_compile_bytecode\u001b[1;34m(self)\u001b[0m\n\u001b[0;32m    650\u001b[0m \u001b[1;33m\u001b[0m\u001b[0m\n\u001b[0;32m    651\u001b[0m         \u001b[0mpm\u001b[0m\u001b[1;33m.\u001b[0m\u001b[0mfinalize\u001b[0m\u001b[1;33m(\u001b[0m\u001b[1;33m)\u001b[0m\u001b[1;33m\u001b[0m\u001b[0m\n\u001b[1;32m--> 652\u001b[1;33m         \u001b[1;32mreturn\u001b[0m \u001b[0mpm\u001b[0m\u001b[1;33m.\u001b[0m\u001b[0mrun\u001b[0m\u001b[1;33m(\u001b[0m\u001b[0mself\u001b[0m\u001b[1;33m.\u001b[0m\u001b[0mstatus\u001b[0m\u001b[1;33m)\u001b[0m\u001b[1;33m\u001b[0m\u001b[0m\n\u001b[0m\u001b[0;32m    653\u001b[0m \u001b[1;33m\u001b[0m\u001b[0m\n\u001b[0;32m    654\u001b[0m \u001b[1;33m\u001b[0m\u001b[0m\n",
      "\u001b[1;32m/home/dgiles/anaconda/lib/python2.7/site-packages/numba/compiler.pyc\u001b[0m in \u001b[0;36mrun\u001b[1;34m(self, status)\u001b[0m\n\u001b[0;32m    249\u001b[0m                     \u001b[1;31m# No more fallback pipelines?\u001b[0m\u001b[1;33m\u001b[0m\u001b[1;33m\u001b[0m\u001b[0m\n\u001b[0;32m    250\u001b[0m                     \u001b[1;32mif\u001b[0m \u001b[0mis_final_pipeline\u001b[0m\u001b[1;33m:\u001b[0m\u001b[1;33m\u001b[0m\u001b[0m\n\u001b[1;32m--> 251\u001b[1;33m                         \u001b[1;32mraise\u001b[0m \u001b[0mpatched_exception\u001b[0m\u001b[1;33m\u001b[0m\u001b[0m\n\u001b[0m\u001b[0;32m    252\u001b[0m                     \u001b[1;31m# Go to next fallback pipeline\u001b[0m\u001b[1;33m\u001b[0m\u001b[1;33m\u001b[0m\u001b[0m\n\u001b[0;32m    253\u001b[0m                     \u001b[1;32melse\u001b[0m\u001b[1;33m:\u001b[0m\u001b[1;33m\u001b[0m\u001b[0m\n",
      "\u001b[1;31mUntypedAttributeError\u001b[0m: Caused By:\nTraceback (most recent call last):\n  File \"/home/dgiles/anaconda/lib/python2.7/site-packages/numba/compiler.py\", line 243, in run\n    res = stage()\n  File \"/home/dgiles/anaconda/lib/python2.7/site-packages/numba/compiler.py\", line 463, in stage_nopython_frontend\n    self.locals)\n  File \"/home/dgiles/anaconda/lib/python2.7/site-packages/numba/compiler.py\", line 780, in type_inference_stage\n    infer.propagate()\n  File \"/home/dgiles/anaconda/lib/python2.7/site-packages/numba/typeinfer.py\", line 565, in propagate\n    raise errors[0]\nUntypedAttributeError: Unknown attribute \"mean\" of type Module(<module 'numpy' from '/home/dgiles/anaconda/lib/python2.7/site-packages/numpy/__init__.pyc'>)\nFile \"<ipython-input-36-afafb6a0be02>\", line 14\n\nFailed at nopython (nopython frontend)\nUnknown attribute \"mean\" of type Module(<module 'numpy' from '/home/dgiles/anaconda/lib/python2.7/site-packages/numpy/__init__.pyc'>)\nFile \"<ipython-input-36-afafb6a0be02>\", line 14"
     ]
    }
   ],
   "source": [
    "\n",
    "@cuda.autojit\n",
    "def clusterIndsCuda(d_t,d_nf,d_length,dtest):\n",
    "    bx = cuda.blockIdx.x # which block in the grid?\n",
    "    bw = cuda.blockDim.x # what is the size of a block?\n",
    "    tx = cuda.threadIdx.x # unique thread ID within a blcok\n",
    "    i = tx + bx * bw\n",
    "    begin=0\n",
    "    for j in range(i):\n",
    "        begin += d_length[i]\n",
    "    end = begin+d_length[i]\n",
    "    t = d_t[begin:end]\n",
    "    nf = d_nf[begin:end]\n",
    "    \n",
    "    if i<=len(dtest):\n",
    "        dtest[i]= nf[0]\n",
    "    else:\n",
    "        return\n",
    "\n",
    "def main(files):\n",
    "\n",
    "    # Allocate host memory arrays\n",
    "    N = len(files)\n",
    "    test = np.zeros(N)\n",
    "    t=np.concatenate(lcs[:,0])\n",
    "    nf=np.concatenate(lcs[:,1])\n",
    "    length = np.array([len(i[0]) for i in lcs])\n",
    "    # Allocate and copy GPU/device memory\n",
    "    d_t = cuda.to_device(t)\n",
    "    d_nf = cuda.to_device(nf)\n",
    "    d_length = cuda.to_device(length)\n",
    "    d_test = cuda.to_device(test)\n",
    "    threads_per_block = 128\n",
    "    number_of_blocks =N/128+1 ## FIXME: given the threads_per_block is set, determine how many blocks we need ##\n",
    "\n",
    "    clusterIndsCuda [ number_of_blocks, threads_per_block ] (d_t,d_nf,d_length,d_test) ## FIXME: what variables do we pass? ##, N \n",
    "\n",
    "    ## FIXME: copy the vector c from the GPU back to the host ##\n",
    "    d_test.copy_to_host(test)\n",
    "    print(len(test))\n",
    "    return test\n",
    "test = main(files)\n",
    "print(test[0])"
   ]
  },
  {
   "cell_type": "code",
   "execution_count": 23,
   "metadata": {
    "collapsed": false
   },
   "outputs": [
    {
     "data": {
      "text/plain": [
       "6"
      ]
     },
     "execution_count": 23,
     "metadata": {},
     "output_type": "execute_result"
    }
   ],
   "source": [
    "a = np.array([1,2,3])\n",
    "sum(a[:2])+a[2]"
   ]
  },
  {
   "cell_type": "code",
   "execution_count": 39,
   "metadata": {
    "collapsed": false
   },
   "outputs": [
    {
     "ename": "OSError",
     "evalue": "[Errno 2] No such file or directory: 'tmp_data.csv'",
     "output_type": "error",
     "traceback": [
      "\u001b[1;31m---------------------------------------------------------------------------\u001b[0m",
      "\u001b[1;31mOSError\u001b[0m                                   Traceback (most recent call last)",
      "\u001b[1;32m<ipython-input-39-d86edb37b767>\u001b[0m in \u001b[0;36m<module>\u001b[1;34m()\u001b[0m\n\u001b[0;32m      3\u001b[0m \u001b[1;32mimport\u001b[0m \u001b[0mkeplerml\u001b[0m\u001b[1;33m\u001b[0m\u001b[0m\n\u001b[0;32m      4\u001b[0m \u001b[1;33m\u001b[0m\u001b[0m\n\u001b[1;32m----> 5\u001b[1;33m \u001b[0mkeplerml\u001b[0m\u001b[1;33m.\u001b[0m\u001b[0mclean_up\u001b[0m\u001b[1;33m(\u001b[0m\u001b[1;34m'/home/dgiles/Documents/KeplerLCs/filelists/Q2_filelist'\u001b[0m\u001b[1;33m,\u001b[0m\u001b[1;34m'/home/dgiles/Documents/KeplerLCs/fitsFiles/Q2fitsfiles'\u001b[0m\u001b[1;33m,\u001b[0m\u001b[1;34m'/home/dgiles/Documents/KeplerLCs/tmp_data.csv'\u001b[0m\u001b[1;33m)\u001b[0m\u001b[1;33m\u001b[0m\u001b[0m\n\u001b[0m",
      "\u001b[1;32m/home/dgiles/Documents/KeplerML/python/keplerml.py\u001b[0m in \u001b[0;36mclean_up\u001b[1;34m(fl, fitsDir, in_file)\u001b[0m\n\u001b[0;32m     66\u001b[0m         \u001b[0mos\u001b[0m\u001b[1;33m.\u001b[0m\u001b[0mremove\u001b[0m\u001b[1;33m(\u001b[0m\u001b[0mfl\u001b[0m\u001b[1;33m)\u001b[0m\u001b[1;33m\u001b[0m\u001b[0m\n\u001b[0;32m     67\u001b[0m \u001b[1;33m\u001b[0m\u001b[0m\n\u001b[1;32m---> 68\u001b[1;33m     \u001b[0mos\u001b[0m\u001b[1;33m.\u001b[0m\u001b[0mremove\u001b[0m\u001b[1;33m(\u001b[0m\u001b[1;34m'tmp_data.csv'\u001b[0m\u001b[1;33m)\u001b[0m\u001b[1;33m\u001b[0m\u001b[0m\n\u001b[0m\u001b[0;32m     69\u001b[0m     \u001b[1;32mreturn\u001b[0m\u001b[1;33m\u001b[0m\u001b[0m\n\u001b[0;32m     70\u001b[0m \u001b[1;33m\u001b[0m\u001b[0m\n",
      "\u001b[1;31mOSError\u001b[0m: [Errno 2] No such file or directory: 'tmp_data.csv'"
     ]
    }
   ],
   "source": [
    "import sys\n",
    "sys.path.append('python')\n",
    "import keplerml\n",
    "\n",
    "keplerml.clean_up('/home/dgiles/Documents/KeplerLCs/filelists/Q2_filelist','/home/dgiles/Documents/KeplerLCs/fitsFiles/Q2fitsfiles','/home/dgiles/Documents/KeplerLCs/tmp_data.csv')"
   ]
  },
  {
   "cell_type": "code",
   "execution_count": 48,
   "metadata": {
    "collapsed": false
   },
   "outputs": [
    {
     "name": "stdout",
     "output_type": "stream",
     "text": [
      "1\n"
     ]
    }
   ],
   "source": [
    "del(cats)\n",
    "while True:\n",
    "    try:\n",
    "        cats += 1\n",
    "        break\n",
    "    except NameError:\n",
    "        cats = 0\n",
    "\n",
    "print(cats)"
   ]
  },
  {
   "cell_type": "code",
   "execution_count": 49,
   "metadata": {
    "collapsed": false
   },
   "outputs": [
    {
     "data": {
      "text/plain": [
       "True"
      ]
     },
     "execution_count": 49,
     "metadata": {},
     "output_type": "execute_result"
    }
   ],
   "source": [
    "import os\n",
    "os.path.isfile('Work Space.ipynb')"
   ]
  },
  {
   "cell_type": "code",
   "execution_count": 1,
   "metadata": {
    "collapsed": false
   },
   "outputs": [
    {
     "name": "stdout",
     "output_type": "stream",
     "text": [
      "Done.\n",
      "LCs imported\n"
     ]
    }
   ],
   "source": [
    "import pandas as pd\n",
    "import numpy as np\n",
    "from multiprocessing import Pool,cpu_count\n",
    "import sys\n",
    "sys.path.append('python')\n",
    "import keplerml\n",
    "\n",
    "def poolRKC(files,fitsDir):\n",
    "    # Read in kepler curves in parallel. \n",
    "    # Returns array containing of arrays of [t,nf,err] for each lc.\n",
    "    numcpus = cpu_count()\n",
    "    fwp = fitsDir+\"/\"+files\n",
    "    p = Pool(numcpus)\n",
    "    lcs = p.map(keplerml.read_kepler_curve,fwp)\n",
    "    p.close()\n",
    "    p.join\n",
    "    print(\"Done.\")\n",
    "    return lcs\n",
    "\n",
    "for i in range(3:18):\n",
    "    feats = \"/home/dgiles/Documents/KeplerLCs/output/Q%s_output.csv\"%i\n",
    "    fitsDir = \"/home/dgiles/Documents/KeplerLCs/fitsFiles/Q%sfitsfiles\"%i\n",
    "    df = pd.read_csv(feats,index_col=0)\n",
    "    files = df.index\n",
    "    lcs = poolRKC(files,fitsDir)\n",
    "    print(\"LCs imported\")\n",
    "    lcs = np.array(lcs)\n",
    "    assert len(lcs[:,0])==len(lcs[:,1]),\"Lightcurve arrays not the same size\"\n",
    "    df['t']=list(lcs[:,0])\n",
    "    df['nf']=list(lcs[:,1])\n",
    "    df['err']=list(lcs[:,2])\n"
   ]
  },
  {
   "cell_type": "code",
   "execution_count": null,
   "metadata": {
    "collapsed": false
   },
   "outputs": [],
   "source": [
    "out_file=\"/home/dgiles/Documents/KeplerLCs/output/Q1_output.csv\"\n",
    "with open(out_file,'w') as of:\n",
    "        df.to_csv(of)"
   ]
  },
  {
   "cell_type": "code",
   "execution_count": 46,
   "metadata": {
    "collapsed": false
   },
   "outputs": [
    {
     "data": {
      "text/plain": [
       "Index([u'alpha', u'bravo', u'charlie'], dtype='object')"
      ]
     },
     "execution_count": 46,
     "metadata": {},
     "output_type": "execute_result"
    }
   ],
   "source": [
    "df.index"
   ]
  },
  {
   "cell_type": "code",
   "execution_count": null,
   "metadata": {
    "collapsed": true
   },
   "outputs": [],
   "source": []
  }
 ],
 "metadata": {
  "kernelspec": {
   "display_name": "Python 2",
   "language": "python",
   "name": "python2"
  },
  "language_info": {
   "codemirror_mode": {
    "name": "ipython",
    "version": 2
   },
   "file_extension": ".py",
   "mimetype": "text/x-python",
   "name": "python",
   "nbconvert_exporter": "python",
   "pygments_lexer": "ipython2",
   "version": "2.7.11"
  }
 },
 "nbformat": 4,
 "nbformat_minor": 0
}
