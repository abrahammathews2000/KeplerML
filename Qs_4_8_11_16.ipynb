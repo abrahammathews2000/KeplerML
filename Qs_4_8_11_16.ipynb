{
 "cells": [
  {
   "cell_type": "code",
   "execution_count": 1,
   "metadata": {
    "collapsed": false
   },
   "outputs": [
    {
     "name": "stderr",
     "output_type": "stream",
     "text": [
      "numbapro:1: ImportWarning: The numbapro package is deprecated in favour of the accelerate package. Please update your code to use equivalent functions from accelerate.\n",
      "/home/dgiles/anaconda/lib/python2.7/site-packages/numba/cuda/decorators.py:107: UserWarning: autojit is deprecated and will be removed in a future release. Use jit instead.\n",
      "  warn('autojit is deprecated and will be removed in a future release. Use jit instead.')\n"
     ]
    },
    {
     "name": "stdout",
     "output_type": "stream",
     "text": [
      "Plotting.\n",
      "window closed.\n"
     ]
    },
    {
     "ename": "SystemExit",
     "evalue": "",
     "output_type": "error",
     "traceback": [
      "An exception has occurred, use %tb to see the full traceback.\n",
      "\u001b[1;31mSystemExit\u001b[0m\n"
     ]
    },
    {
     "name": "stderr",
     "output_type": "stream",
     "text": [
      "To exit: use 'exit', 'quit', or Ctrl-D.\n"
     ]
    }
   ],
   "source": [
    "import matplotlib\n",
    "matplotlib.use('TkAgg')\n",
    "import matplotlib.pyplot as plt\n",
    "from matplotlib.figure import Figure\n",
    "from matplotlib.backends.backend_tkagg import FigureCanvasTkAgg, NavigationToolbar2TkAgg\n",
    "from matplotlib import colors\n",
    "import matplotlib.cm as cmx\n",
    "import matplotlib.gridspec as gridspec\n",
    "import numpy as np\n",
    "np.set_printoptions(threshold='nan')\n",
    "import pandas as pd\n",
    "import seaborn as sns\n",
    "import sys\n",
    "if sys.version_info[0] < 3:\n",
    "    import Tkinter as Tk\n",
    "else:\n",
    "    import tkinter as Tk\n",
    "    \n",
    "from tkFileDialog import askopenfilename,askdirectory,asksaveasfile\n",
    "sys.path.append('python')\n",
    "import clusterOutliers\n",
    "import keplerml\n",
    "\n",
    "featCSV = \"/home/dgiles/Documents/KeplerLCs/output/Q4_FullSample.csv\" # Path to csv containing feature data (should be a pandas dataframe saved as a csv)\n",
    "fitsDir = \"/home/dgiles/Documents/KeplerLCs/fitsFiles/Q4fitsfiles\" # path to fits files\n",
    "Q4 = clusterOutliers.clusterOutliers(featCSV,fitsDir)\n",
    "Q4.dataSample = Q4.data\n",
    "Q4.filesSample =Q4.dataSample.index\n",
    "Q4.sampleGenerated = True\n",
    "Q4.sampleTSNE = True\n",
    "\n",
    "Q4.plot_sample(df=Q4.dataSample,pathtofits=Q4.fitsDir,clusterLabels='dbscan',reduction_method='pca')"
   ]
  },
  {
   "cell_type": "markdown",
   "metadata": {},
   "source": [
    "# Import Existing Sample Data (if it exists)"
   ]
  },
  {
   "cell_type": "code",
   "execution_count": 2,
   "metadata": {
    "collapsed": false
   },
   "outputs": [],
   "source": [
    "featCSV = \"/home/dgiles/Documents/KeplerLCs/output/Q4_FullSample.csv\" # Path to csv containing feature data (should be a pandas dataframe saved as a csv)\n",
    "fitsDir = \"/home/dgiles/Documents/KeplerLCs/fitsFiles/Q4fitsfiles\" # path to fits files\n",
    "Q4 = clusterOutliers.clusterOutliers(featCSV,fitsDir)\n",
    "Q4.dataSample = Q4.data\n",
    "Q4.filesSample =Q4.dataSample.index\n",
    "Q4.sampleGenerated = True\n",
    "Q4.sampleTSNE = True\n",
    "\n",
    "featCSV = \"/home/dgiles/Documents/KeplerLCs/output/Q8_FullSample.csv\" # Path to csv containing feature data (should be a pandas dataframe saved as a csv)\n",
    "fitsDir = \"/home/dgiles/Documents/KeplerLCs/fitsFiles/Q8fitsfiles\" # path to fits files\n",
    "Q8 = clusterOutliers.clusterOutliers(featCSV,fitsDir)\n",
    "Q8.dataSample = Q8.data\n",
    "Q8.filesSample =Q8.dataSample.index\n",
    "Q8.sampleGenerated = True\n",
    "Q8.sampleTSNE = True\n",
    "\n",
    "featCSV = \"/home/dgiles/Documents/KeplerLCs/output/Q11_FullSample.csv\" # Path to csv containing feature data (should be a pandas dataframe saved as a csv)\n",
    "fitsDir = \"/home/dgiles/Documents/KeplerLCs/fitsFiles/Q11fitsfiles\" # path to fits files\n",
    "Q11 = clusterOutliers.clusterOutliers(featCSV,fitsDir)\n",
    "Q11.dataSample = Q11.data\n",
    "Q11.filesSample =Q11.dataSample.index\n",
    "Q11.sampleGenerated = True\n",
    "Q11.sampleTSNE = True\n",
    "\n",
    "featCSV = \"/home/dgiles/Documents/KeplerLCs/output/Q16_FullSample.csv\" # Path to csv containing feature data (should be a pandas dataframe saved as a csv)\n",
    "fitsDir = \"/home/dgiles/Documents/KeplerLCs/fitsFiles/Q16fitsfiles\" # path to fits files\n",
    "Q16 = clusterOutliers.clusterOutliers(featCSV,fitsDir)\n",
    "Q16.dataSample = Q16.data\n",
    "Q16.filesSample =Q16.dataSample.index\n",
    "Q16.sampleGenerated = True\n",
    "Q16.sampleTSNE = True"
   ]
  },
  {
   "cell_type": "markdown",
   "metadata": {},
   "source": [
    "## Import the features created with keplerml.py"
   ]
  },
  {
   "cell_type": "code",
   "execution_count": 3,
   "metadata": {
    "collapsed": false,
    "scrolled": true
   },
   "outputs": [],
   "source": [
    "# User defined\n",
    "featCSV = \"/home/dgiles/Documents/KeplerLCs/output/Q4_output.csv\" # Path to csv containing feature data (should be a pandas dataframe saved as a csv)\n",
    "fitsDir = \"/home/dgiles/Documents/KeplerLCs/fitsFiles/Q4fitsfiles\" # path to fits files\n",
    "\n",
    "#Generating an initial sample of 10,000 light curves\n",
    "Q4 = clusterOutliers.clusterOutliers(featCSV,fitsDir)\n",
    "#Q4_Sample = Q4.randSampleWTabby(10000)\n",
    "\n",
    "\"\"\"Q4.sample_tsne_fit()\n",
    "print(\"K-means\")\n",
    "Q4.sample_km_out()\n",
    "print(\"DBSCAN\")\n",
    "Q4.sample_db_out()\"\"\"\n",
    "# The Kepler IDs of each lc, without the timestamp, to identify in other quarters\n",
    "kID = [i[:13] for i in Q4.data.index]"
   ]
  },
  {
   "cell_type": "code",
   "execution_count": 4,
   "metadata": {
    "collapsed": false
   },
   "outputs": [
    {
     "name": "stdout",
     "output_type": "stream",
     "text": [
      "Q8 imported.\n",
      "Q11 imported.\n",
      "Q16 imported.\n"
     ]
    }
   ],
   "source": [
    "# User defined\n",
    "\"\"\"\n",
    "featCSV = \"/home/dgiles/Documents/KeplerLCs/output/Q4_output.csv\" # Path to csv containing feature data (should be a pandas dataframe saved as a csv)\n",
    "fitsDir = \"/home/dgiles/Documents/KeplerLCs/fitsFiles/Q4fitsfiles\" # path to fits files\n",
    "\n",
    "Q4 = clusterOutliers.clusterOutliers(featCSV,fitsDir)\n",
    "# The Kepler IDs of each lc, without the timestamp, to identify in other quarters\n",
    "kID = [i[:13] for i in Q4.data.index]\n",
    "# \"\"\"\n",
    "featCSV = \"/home/dgiles/Documents/KeplerLCs/output/Q8_output.csv\" # Path to csv containing feature data (should be a pandas dataframe saved as a csv)\n",
    "fitsDir = \"/home/dgiles/Documents/KeplerLCs/fitsFiles/Q8fitsfiles\" # path to fits files\n",
    "Q8 = clusterOutliers.clusterOutliers(featCSV,fitsDir)\n",
    "# Creating a data sample set using the kIDs from the original quarter\n",
    "Q8_common = Q8.data[Q8.data.index.str.contains('|'.join(kID))]\n",
    "kID = [i[:13] for i in Q8_common.index]\n",
    "print(\"Q8 imported.\")\n",
    "featCSV = \"/home/dgiles/Documents/KeplerLCs/output/Q11_output.csv\" # Path to csv containing feature data (should be a pandas dataframe saved as a csv)\n",
    "fitsDir = \"/home/dgiles/Documents/KeplerLCs/fitsFiles/Q11fitsfiles\" # path to fits files\n",
    "Q11 = clusterOutliers.clusterOutliers(featCSV,fitsDir)\n",
    "Q11_common = Q11.data[Q11.data.index.str.contains('|'.join(kID))]\n",
    "kID = [i[:13] for i in Q11_common.index]\n",
    "print(\"Q11 imported.\")\n",
    "featCSV = \"/home/dgiles/Documents/KeplerLCs/output/Q16_output.csv\" # Path to csv containing feature data (should be a pandas dataframe saved as a csv)\n",
    "fitsDir = \"/home/dgiles/Documents/KeplerLCs/fitsFiles/Q16fitsfiles\" # path to fits files\n",
    "Q16 = clusterOutliers.clusterOutliers(featCSV,fitsDir)\n",
    "Q16_common = Q16.data[Q16.data.index.str.contains('|'.join(kID))]\n",
    "kID = [i[:13] for i in Q16_common.index]\n",
    "print(\"Q16 imported.\")\n",
    "# Ensure all quarters contain the same data\n",
    "Q4_common = Q4.data[Q4.data.index.str.contains('|'.join(kID))]\n",
    "Q8_common = Q8_common[Q8_common.index.str.contains('|'.join(kID))]\n",
    "Q11_common = Q11_common[Q11_common.index.str.contains('|'.join(kID))]"
   ]
  },
  {
   "cell_type": "code",
   "execution_count": 5,
   "metadata": {
    "collapsed": false
   },
   "outputs": [],
   "source": [
    "Q4.dataSample = Q4_common\n",
    "Q4.filesSample = Q4.dataSample.index\n",
    "Q4.sampleGenerated = True\n",
    "\n",
    "Q8.dataSample = Q8_common\n",
    "Q8.filesSample = Q8.dataSample.index\n",
    "Q8.sampleGenerated = True\n",
    "\n",
    "Q11.dataSample = Q11_common\n",
    "Q11.filesSample = Q11.dataSample.index\n",
    "Q11.sampleGenerated = True\n",
    "\n",
    "Q16.dataSample = Q16_common\n",
    "Q16.filesSample = Q16.dataSample.index\n",
    "Q16.sampleGenerated = True\n",
    "\n",
    "Q_dict = {'Q8':Q8,'Q4':Q4,'Q11':Q11,'Q16':Q16}"
   ]
  },
  {
   "cell_type": "code",
   "execution_count": 6,
   "metadata": {
    "collapsed": false
   },
   "outputs": [
    {
     "name": "stdout",
     "output_type": "stream",
     "text": [
      "Clustering data...\n",
      "\n",
      "    Epsilon is in the neighborhood of 6.95642267671, \n",
      "    with an average of 2000.0 neighbors within epsilon,\n",
      "    1000.0 neighbors in half circle (neighbors/2).\n",
      "    \n",
      "Clustering data with DBSCAN...\n",
      "Tabby has not Not found to be an outlier in DBSCAN\n",
      "There were 1 clusters and 4049 total outliers\n",
      "1:55:17.568466\n"
     ]
    },
    {
     "name": "stderr",
     "output_type": "stream",
     "text": [
      "/home/dgiles/anaconda/lib/python2.7/site-packages/ipykernel/__main__.py:11: SettingWithCopyWarning: \n",
      "A value is trying to be set on a copy of a slice from a DataFrame.\n",
      "Try using .loc[row_indexer,col_indexer] = value instead\n",
      "\n",
      "See the caveats in the documentation: http://pandas.pydata.org/pandas-docs/stable/indexing.html#indexing-view-versus-copy\n"
     ]
    }
   ],
   "source": [
    "from datetime import datetime\n",
    "from sklearn import preprocessing\n",
    "def cluster_sample(q):\n",
    "    start = datetime.now()\n",
    "    Qob = Q_dict[q]\n",
    "    Q = Qob.dataSample\n",
    "    data = Q.iloc[:,0:60]\n",
    "    scaler = preprocessing.StandardScaler().fit(data)\n",
    "    scaledData = scaler.transform(data)\n",
    "    df_scaled = pd.DataFrame(columns=Q.columns[0:60],index = Q.index,data=scaledData)\n",
    "    print(datetime.now()-start)\n",
    "    \n",
    "    return Qob.db_out(df_scaled)\n",
    "\n",
    "Q4.dataSample['db_out'] = cluster_sample(Q4)"
   ]
  },
  {
   "cell_type": "code",
   "execution_count": null,
   "metadata": {
    "collapsed": true
   },
   "outputs": [],
   "source": [
    "from multiprocessing import Pool\n",
    "\n",
    "p = Pool(3)\n",
    "db_outs = p.map(cluster_sample,[Q8,Q11,Q16])\n",
    "p.close()\n",
    "p.join()\n",
    "\n",
    "Q8.dataSample['db_out'] = db_outs[0]\n",
    "Q11.dataSample['db_out'] = db_outs[1]\n",
    "Q16.dataSample['db_out'] = db_outs[2]"
   ]
  },
  {
   "cell_type": "code",
   "execution_count": 13,
   "metadata": {
    "collapsed": false,
    "scrolled": true
   },
   "outputs": [
    {
     "name": "stderr",
     "output_type": "stream",
     "text": [
      "/home/dgiles/anaconda/lib/python2.7/site-packages/pandas/core/generic.py:2698: SettingWithCopyWarning: \n",
      "A value is trying to be set on a copy of a slice from a DataFrame.\n",
      "Try using .loc[row_indexer,col_indexer] = value instead\n",
      "\n",
      "See the caveats in the documentation: http://pandas.pydata.org/pandas-docs/stable/indexing.html#indexing-view-versus-copy\n",
      "  self[name] = value\n",
      "/home/dgiles/anaconda/lib/python2.7/site-packages/ipykernel/__main__.py:4: SettingWithCopyWarning: \n",
      "A value is trying to be set on a copy of a slice from a DataFrame.\n",
      "Try using .loc[row_indexer,col_indexer] = value instead\n",
      "\n",
      "See the caveats in the documentation: http://pandas.pydata.org/pandas-docs/stable/indexing.html#indexing-view-versus-copy\n"
     ]
    }
   ],
   "source": [
    "# returns updated dataframe with pca_x and pca_y for each file\n",
    "Q4_pca = Q4.pca_fit(Q4.dataSample.iloc[:,0:60])\n",
    "Q4.dataSample['pca_x']=Q4_pca.T[0]\n",
    "Q4.dataSample['pca_y']=Q4_pca.T[1]"
   ]
  },
  {
   "cell_type": "code",
   "execution_count": 15,
   "metadata": {
    "collapsed": false
   },
   "outputs": [
    {
     "data": {
      "text/plain": [
       "<module 'clusterOutliers' from 'python/clusterOutliers.py'>"
      ]
     },
     "execution_count": 15,
     "metadata": {},
     "output_type": "execute_result"
    }
   ],
   "source": [
    "reload(clusterOutliers)"
   ]
  },
  {
   "cell_type": "code",
   "execution_count": null,
   "metadata": {
    "collapsed": true
   },
   "outputs": [],
   "source": []
  },
  {
   "cell_type": "code",
   "execution_count": 2,
   "metadata": {
    "collapsed": false
   },
   "outputs": [
    {
     "name": "stdout",
     "output_type": "stream",
     "text": [
      "Plotting.\n"
     ]
    },
    {
     "name": "stderr",
     "output_type": "stream",
     "text": [
      "Exception in Tkinter callback\n",
      "Traceback (most recent call last):\n",
      "  File \"/home/dgiles/anaconda/lib/python2.7/lib-tk/Tkinter.py\", line 1536, in __call__\n",
      "    return self.func(*args)\n",
      "  File \"/home/dgiles/anaconda/lib/python2.7/site-packages/matplotlib/backends/backend_tkagg.py\", line 405, in button_press_event\n",
      "    FigureCanvasBase.button_press_event(self, x, y, num, dblclick=dblclick, guiEvent=event)\n",
      "  File \"/home/dgiles/anaconda/lib/python2.7/site-packages/matplotlib/backend_bases.py\", line 1903, in button_press_event\n",
      "    self.callbacks.process(s, mouseevent)\n",
      "  File \"/home/dgiles/anaconda/lib/python2.7/site-packages/matplotlib/cbook.py\", line 563, in process\n",
      "    proxy(*args, **kwargs)\n",
      "  File \"/home/dgiles/anaconda/lib/python2.7/site-packages/matplotlib/cbook.py\", line 430, in __call__\n",
      "    return mtd(*args, **kwargs)\n",
      "  File \"python/clusterOutliers.py\", line 427, in <lambda>\n",
      "    connect.cidpress = fig.canvas.mpl_connect('button_press_event', lambda event: onMouseClick(event,X))\n",
      "  File \"python/clusterOutliers.py\", line 411, in onMouseClick\n",
      "    closestIndex = calcClosestDatapoint(X, event)\n",
      "  File \"python/clusterOutliers.py\", line 339, in calcClosestDatapoint\n",
      "    Ds = distances(pts,event)\n",
      "  File \"python/clusterOutliers.py\", line 288, in distances\n",
      "    assert pts[0].shape == (2,), \"Point shape is wrong: %s, must be (2,)\" % pts[0].shape\n",
      "TypeError: not enough arguments for format string\n",
      "Exception in Tkinter callback\n",
      "Traceback (most recent call last):\n",
      "  File \"/home/dgiles/anaconda/lib/python2.7/lib-tk/Tkinter.py\", line 1536, in __call__\n",
      "    return self.func(*args)\n",
      "  File \"/home/dgiles/anaconda/lib/python2.7/site-packages/matplotlib/backends/backend_tkagg.py\", line 423, in button_release_event\n",
      "    FigureCanvasBase.button_release_event(self, x, y, num, guiEvent=event)\n",
      "  File \"/home/dgiles/anaconda/lib/python2.7/site-packages/matplotlib/backend_bases.py\", line 1926, in button_release_event\n",
      "    self.callbacks.process(s, event)\n",
      "  File \"/home/dgiles/anaconda/lib/python2.7/site-packages/matplotlib/cbook.py\", line 563, in process\n",
      "    proxy(*args, **kwargs)\n",
      "  File \"/home/dgiles/anaconda/lib/python2.7/site-packages/matplotlib/cbook.py\", line 430, in __call__\n",
      "    return mtd(*args, **kwargs)\n",
      "  File \"python/clusterOutliers.py\", line 428, in <lambda>\n",
      "    connect.cidrelease = fig.canvas.mpl_connect('button_release_event', lambda event: onMouseRelease(event, X))\n",
      "  File \"python/clusterOutliers.py\", line 416, in onMouseRelease\n",
      "    closestIndex = calcClosestDatapoint(XT, event)\n",
      "  File \"python/clusterOutliers.py\", line 333, in calcClosestDatapoint\n",
      "    assert X.shape[1]==2, \"Shape of data is wrong: %s, must be (whatever,2)\"%X.shape\n",
      "TypeError: not all arguments converted during string formatting\n"
     ]
    },
    {
     "name": "stdout",
     "output_type": "stream",
     "text": [
      "window closed.\n"
     ]
    },
    {
     "ename": "SystemExit",
     "evalue": "",
     "output_type": "error",
     "traceback": [
      "An exception has occurred, use %tb to see the full traceback.\n",
      "\u001b[1;31mSystemExit\u001b[0m\n"
     ]
    },
    {
     "name": "stderr",
     "output_type": "stream",
     "text": [
      "To exit: use 'exit', 'quit', or Ctrl-D.\n"
     ]
    }
   ],
   "source": [
    "featCSV = \"/home/dgiles/Documents/KeplerLCs/output/Q4_FullSample.csv\" # Path to csv containing feature data (should be a pandas dataframe saved as a csv)\n",
    "fitsDir = \"/home/dgiles/Documents/KeplerLCs/fitsFiles/Q4fitsfiles\" # path to fits files\n",
    "Q4 = clusterOutliers.clusterOutliers(featCSV,fitsDir)\n",
    "Q4.dataSample = Q4.data\n",
    "Q4.filesSample =Q4.dataSample.index\n",
    "Q4.sampleGenerated = True\n",
    "Q4.sampleTSNE = True\n",
    "\n",
    "Q4.plot_sample(df=Q4.dataSample,pathtofits=Q4.fitsDir,clusterLabels='dbscan',reduction_method='pca')"
   ]
  },
  {
   "cell_type": "code",
   "execution_count": null,
   "metadata": {
    "collapsed": false
   },
   "outputs": [
    {
     "name": "stdout",
     "output_type": "stream",
     "text": [
      "Clustering data...\n"
     ]
    }
   ],
   "source": [
    "from sklearn import preprocessing\n",
    "for q in Q_dict:\n",
    "    Qob = Q_dict[q]\n",
    "    Q = Q_dict[q].dataSample\n",
    "    data = Q.iloc[:,0:60]\n",
    "    scaler = preprocessing.StandardScaler().fit(data)\n",
    "    scaledData = scaler.transform(data)\n",
    "    df_scaled = pd.DataFrame(columns=Q.columns[0:60],index = Q.index,data=scaledData)\n",
    "    Q['db_out'] = Qob.db_out(df_scaled)"
   ]
  },
  {
   "cell_type": "code",
   "execution_count": null,
   "metadata": {
    "collapsed": true
   },
   "outputs": [],
   "source": [
    "# Defining the sample instead of randomly generating it.\n",
    "Q4.dataSample = Q4_common\n",
    "Q4.filesSample = Q4.dataSample.index\n",
    "Q4.sampleGenerated = True\n",
    "Q4.sample_tsne_fit()\n",
    "print(\"K-means\")\n",
    "Q4.sample_km_out()\n",
    "print(\"DBSCAN\")\n",
    "Q4.sample_db_out()"
   ]
  },
  {
   "cell_type": "code",
   "execution_count": null,
   "metadata": {
    "collapsed": true
   },
   "outputs": [],
   "source": [
    "# Defining the sample instead of randomly generating it.\n",
    "Q8.dataSample = Q8_common\n",
    "Q8.filesSample = Q8.dataSample.index\n",
    "Q8.sampleGenerated = True\n",
    "Q8.sample_tsne_fit()\n",
    "print(\"K-means\")\n",
    "Q8.sample_km_out()\n",
    "print(\"DBSCAN\")\n",
    "Q8.sample_db_out()"
   ]
  },
  {
   "cell_type": "code",
   "execution_count": null,
   "metadata": {
    "collapsed": false
   },
   "outputs": [],
   "source": [
    "Q11.dataSample = Q11_common\n",
    "Q11.filesSample = Q11.dataSample.index\n",
    "Q11.sampleGenerated = True\n",
    "Q11.sample_tsne_fit()\n",
    "print(\"K-means\")\n",
    "Q11.sample_km_out()\n",
    "print(\"DBSCAN\")\n",
    "Q11.sample_db_out()"
   ]
  },
  {
   "cell_type": "code",
   "execution_count": null,
   "metadata": {
    "collapsed": false
   },
   "outputs": [],
   "source": [
    "Q16.dataSample = Q16_common\n",
    "Q16.filesSample = Q16.dataSample.index\n",
    "Q16.sampleGenerated = True\n",
    "Q16.sample_tsne_fit()\n",
    "print(\"K-means\")\n",
    "Q16.sample_km_out()\n",
    "print(\"DBSCAN\")\n",
    "Q16.sample_db_out()"
   ]
  },
  {
   "cell_type": "code",
   "execution_count": null,
   "metadata": {
    "collapsed": true
   },
   "outputs": [],
   "source": []
  },
  {
   "cell_type": "code",
   "execution_count": 17,
   "metadata": {
    "collapsed": false
   },
   "outputs": [],
   "source": [
    "o_f = \"/home/dgiles/Documents/KeplerLCs/output/Q4_FullSample.csv\"\n",
    "with open(o_f,'w') as of: \n",
    "    Q4.dataSample.to_csv(of)\n",
    "    \n",
    "o_f = \"/home/dgiles/Documents/KeplerLCs/output/Q8_FullSample.csv\"\n",
    "with open(o_f,'w') as of: \n",
    "    Q8.dataSample.to_csv(of)\n",
    "    \n",
    "o_f = \"/home/dgiles/Documents/KeplerLCs/output/Q11_FullSample.csv\"\n",
    "with open(o_f,'w') as of: \n",
    "    Q11.dataSample.to_csv(of)\n",
    "    \n",
    "o_f = \"/home/dgiles/Documents/KeplerLCs/output/Q16_FullSample.csv\"\n",
    "with open(o_f,'w') as of: \n",
    "    Q16.dataSample.to_csv(of)"
   ]
  },
  {
   "cell_type": "code",
   "execution_count": 8,
   "metadata": {
    "collapsed": false
   },
   "outputs": [
    {
     "name": "stdout",
     "output_type": "stream",
     "text": [
      "Plotting.\n",
      "window closed.\n"
     ]
    },
    {
     "ename": "SystemExit",
     "evalue": "",
     "output_type": "error",
     "traceback": [
      "An exception has occurred, use %tb to see the full traceback.\n",
      "\u001b[1;31mSystemExit\u001b[0m\n"
     ]
    },
    {
     "name": "stderr",
     "output_type": "stream",
     "text": [
      "To exit: use 'exit', 'quit', or Ctrl-D.\n"
     ]
    }
   ],
   "source": [
    "Q4.plot_sample('dbscan')"
   ]
  },
  {
   "cell_type": "code",
   "execution_count": 9,
   "metadata": {
    "collapsed": false
   },
   "outputs": [
    {
     "name": "stdout",
     "output_type": "stream",
     "text": [
      "Plotting.\n",
      "window closed.\n"
     ]
    },
    {
     "ename": "SystemExit",
     "evalue": "",
     "output_type": "error",
     "traceback": [
      "An exception has occurred, use %tb to see the full traceback.\n",
      "\u001b[1;31mSystemExit\u001b[0m\n"
     ]
    },
    {
     "name": "stderr",
     "output_type": "stream",
     "text": [
      "To exit: use 'exit', 'quit', or Ctrl-D.\n"
     ]
    }
   ],
   "source": [
    "Q8.plot_sample('dbscan')"
   ]
  },
  {
   "cell_type": "code",
   "execution_count": 10,
   "metadata": {
    "collapsed": false
   },
   "outputs": [
    {
     "name": "stdout",
     "output_type": "stream",
     "text": [
      "Plotting.\n",
      "window closed.\n"
     ]
    },
    {
     "ename": "SystemExit",
     "evalue": "",
     "output_type": "error",
     "traceback": [
      "An exception has occurred, use %tb to see the full traceback.\n",
      "\u001b[1;31mSystemExit\u001b[0m\n"
     ]
    },
    {
     "name": "stderr",
     "output_type": "stream",
     "text": [
      "To exit: use 'exit', 'quit', or Ctrl-D.\n"
     ]
    }
   ],
   "source": [
    "Q11.plot_sample('dbscan')"
   ]
  },
  {
   "cell_type": "code",
   "execution_count": 11,
   "metadata": {
    "collapsed": false
   },
   "outputs": [
    {
     "name": "stdout",
     "output_type": "stream",
     "text": [
      "Plotting.\n",
      "window closed.\n"
     ]
    },
    {
     "ename": "SystemExit",
     "evalue": "",
     "output_type": "error",
     "traceback": [
      "An exception has occurred, use %tb to see the full traceback.\n",
      "\u001b[1;31mSystemExit\u001b[0m\n"
     ]
    },
    {
     "name": "stderr",
     "output_type": "stream",
     "text": [
      "To exit: use 'exit', 'quit', or Ctrl-D.\n"
     ]
    }
   ],
   "source": [
    "Q16.plot_sample('dbscan')"
   ]
  },
  {
   "cell_type": "code",
   "execution_count": 20,
   "metadata": {
    "collapsed": false
   },
   "outputs": [],
   "source": [
    "Q4out = [i[:13] for i in Q4.dataSample[Q4.dataSample.db_cluster==-1].index]\n",
    "Q8out = [i[:13] for i in Q8.dataSample[Q8.dataSample.db_cluster==-1].index]\n",
    "Q11out = [i[:13] for i in Q11.dataSample[Q11.dataSample.db_cluster==-1].index]\n",
    "Q16out = [i[:13] for i in Q16.dataSample[Q16.dataSample.db_cluster==-1].index]"
   ]
  },
  {
   "cell_type": "code",
   "execution_count": 27,
   "metadata": {
    "collapsed": false
   },
   "outputs": [],
   "source": [
    "Q4_8 = set(Q4out).intersection(Q8out)\n",
    "Q4_11 = set(Q4out).intersection(Q11out)\n",
    "Q4_16 = set(Q4out).intersection(Q16out)\n",
    "Q8_11 = set(Q8out).intersection(Q11out)\n",
    "Q8_16 = set(Q8out).intersection(Q16out)\n",
    "Q11_16 = set(Q11out).intersection(Q16out)\n",
    "\n",
    "Q4_8_11 = set(Q4_8).intersection(Q11out)\n",
    "Q4_8_16 = set(Q4_8).intersection(Q16out)\n",
    "Q4_11_16 = set(Q4_11).intersection(Q16out)\n",
    "Q8_11_16 = set(Q8_11).intersection(Q16out)\n",
    "\n",
    "Q4_8_11_16 = set(Q4_8).intersection(Q11_16)"
   ]
  },
  {
   "cell_type": "code",
   "execution_count": 94,
   "metadata": {
    "collapsed": false
   },
   "outputs": [],
   "source": [
    "Q4_excl = [i for i in Q4out if i not in Q4_8_11_16]\n",
    "with open('/home/dgiles/Documents/KeplerLCs/Q4_excl_outliers','w') as of:\n",
    "    for i in Q4_excl:\n",
    "        of.write(i+'\\n')\n",
    "Q8_excl = [i for i in Q8out if i not in Q4_8_11_16]\n",
    "Q11_excl = [i for i in Q11out if i not in Q4_8_11_16]\n",
    "Q16_excl = [i for i in Q16out if i not in Q4_8_11_16]"
   ]
  },
  {
   "cell_type": "code",
   "execution_count": 104,
   "metadata": {
    "collapsed": false
   },
   "outputs": [
    {
     "name": "stdout",
     "output_type": "stream",
     "text": [
      "kplr002696120\n",
      "201\n",
      "kplr002696120-2011073133259_llc.fits\n"
     ]
    }
   ],
   "source": [
    "print(Q4_excl[0])\n",
    "ind = list(Q.dataSample.index).index(Q.dataSample[Q.dataSample.index.str.contains(Q4_excl[0])].index[0])\n",
    "print(ind)\n",
    "print(Q.dataSample[Q.dataSample.index.str.contains(Q4_excl[0])].index[0])"
   ]
  },
  {
   "cell_type": "code",
   "execution_count": 29,
   "metadata": {
    "collapsed": false
   },
   "outputs": [
    {
     "name": "stdout",
     "output_type": "stream",
     "text": [
      "120\n",
      "105\n",
      "110\n",
      "134\n",
      "\n",
      "74\n",
      "87\n",
      "81\n",
      "73\n",
      "78\n",
      "79\n",
      "\n",
      "68\n",
      "66\n",
      "73\n",
      "67\n",
      "\n",
      "63\n"
     ]
    }
   ],
   "source": [
    "print(len(Q4out))\n",
    "print(len(Q8out))\n",
    "print(len(Q11out))\n",
    "print(len(Q16out))\n",
    "print('')\n",
    "print(len(Q4_8))\n",
    "print(len(Q4_11))\n",
    "print(len(Q4_16))\n",
    "print(len(Q8_11))\n",
    "print(len(Q8_16))\n",
    "print(len(Q11_16))\n",
    "print('')\n",
    "print(len(Q4_8_11))\n",
    "print(len(Q4_8_16))\n",
    "print(len(Q4_11_16))\n",
    "print(len(Q8_11_16))\n",
    "print('')\n",
    "print(len(Q4_8_11_16))"
   ]
  },
  {
   "cell_type": "code",
   "execution_count": 90,
   "metadata": {
    "collapsed": false
   },
   "outputs": [
    {
     "ename": "NameError",
     "evalue": "name 'outfile' is not defined",
     "output_type": "error",
     "traceback": [
      "\u001b[1;31m---------------------------------------------------------------------------\u001b[0m",
      "\u001b[1;31mNameError\u001b[0m                                 Traceback (most recent call last)",
      "\u001b[1;32m<ipython-input-90-4a2cbf01b52c>\u001b[0m in \u001b[0;36m<module>\u001b[1;34m()\u001b[0m\n\u001b[0;32m      2\u001b[0m \u001b[1;32mfor\u001b[0m \u001b[0mi\u001b[0m \u001b[1;32min\u001b[0m \u001b[0mQ4_8_11_16\u001b[0m\u001b[1;33m:\u001b[0m\u001b[1;33m\u001b[0m\u001b[0m\n\u001b[0;32m      3\u001b[0m     \u001b[0mout_file\u001b[0m\u001b[1;33m.\u001b[0m\u001b[0mwrite\u001b[0m\u001b[1;33m(\u001b[0m\u001b[0mi\u001b[0m\u001b[1;33m+\u001b[0m\u001b[1;34m'\\n'\u001b[0m\u001b[1;33m)\u001b[0m\u001b[1;33m\u001b[0m\u001b[0m\n\u001b[1;32m----> 4\u001b[1;33m \u001b[0moutfile\u001b[0m\u001b[1;33m.\u001b[0m\u001b[0mclose\u001b[0m\u001b[1;33m(\u001b[0m\u001b[1;33m)\u001b[0m\u001b[1;33m\u001b[0m\u001b[0m\n\u001b[0m",
      "\u001b[1;31mNameError\u001b[0m: name 'outfile' is not defined"
     ]
    }
   ],
   "source": [
    "out_file = open('/home/dgiles/Documents/KeplerLCs/common_outliers.txt','w')\n",
    "for i in Q4_8_11_16:\n",
    "    out_file.write(i+'\\n')\n",
    "out_file.close()"
   ]
  },
  {
   "cell_type": "code",
   "execution_count": 120,
   "metadata": {
    "collapsed": false
   },
   "outputs": [
    {
     "name": "stdout",
     "output_type": "stream",
     "text": [
      "Plotting.\n",
      "window closed.\n"
     ]
    },
    {
     "ename": "SystemExit",
     "evalue": "",
     "output_type": "error",
     "traceback": [
      "An exception has occurred, use %tb to see the full traceback.\n",
      "\u001b[1;31mSystemExit\u001b[0m\n"
     ]
    },
    {
     "name": "stderr",
     "output_type": "stream",
     "text": [
      "To exit: use 'exit', 'quit', or Ctrl-D.\n"
     ]
    }
   ],
   "source": [
    "import pyfits\n",
    "root = Tk.Tk()\n",
    "root.wm_title(\"Scatter\")\n",
    "\"\"\"--- import light curve data ---\"\"\"\n",
    "pathtofits = fitsDir\n",
    "method = 'dbscan'\n",
    "Qdict = {'Q4':Q4,'Q8':Q8,'Q11':Q11,'Q16':Q16}\n",
    "quarter = 'Q16'\n",
    "Q = Qdict[quarter]\n",
    "files = Q.filesSample\n",
    "if method == 'dbscan':\n",
    "    clusterLabels = Q.dataSample.db_cluster\n",
    "elif method == 'kmeans':\n",
    "    clusterLabels = Q.dataSample.km_cluster\n",
    "\n",
    "# data is an array containing each data point\n",
    "data = np.array(Q.dataSample[['tsne_x','tsne_y']])\n",
    "\n",
    "cNorm  = colors.Normalize(vmin=0, vmax=max(clusterLabels))\n",
    "scalarMap = cmx.ScalarMappable(norm=cNorm, cmap='jet')\n",
    "\n",
    "# tsneX has all the x-coordinates\n",
    "tsneX = Q.dataSample.tsne_x\n",
    "# tsneY has all the y-coordinates\n",
    "tsneY = Q.dataSample.tsne_y\n",
    "\n",
    "data_out = Q.dataSample[clusterLabels==-1]\n",
    "outX = data_out.tsne_x\n",
    "outY = data_out.tsne_y\n",
    "files_out = data_out.index\n",
    "\n",
    "data_cluster = Q.dataSample[clusterLabels!=-1]\n",
    "clusterX = data_cluster.tsne_x\n",
    "clusterY = data_cluster.tsne_y\n",
    "files_cluster = data_cluster.index\n",
    "\n",
    "\n",
    "\"\"\"--- Organizing data and Labels ---\"\"\"\n",
    "\n",
    "\n",
    "if Q.dataSample.index.str.contains('8462852').any():\n",
    "    tabbyInd = list(Q.dataSample.index).index(Q.dataSample[Q.dataSample.index.str.contains('8462852')].index[0])            \n",
    "else:\n",
    "    tabbyInd = 0\n",
    "\n",
    "\n",
    "fig = Figure(figsize=(20,10))\n",
    "\n",
    "# a tk.DrawingArea\n",
    "canvas = FigureCanvasTkAgg(fig, master=root)\n",
    "canvas.get_tk_widget().pack(side=Tk.TOP, fill=Tk.BOTH, expand=1)\n",
    "# Toolbar to help navigate the data (pan, zoom, save image, etc.)\n",
    "toolbar = NavigationToolbar2TkAgg(canvas, root)\n",
    "toolbar.update()\n",
    "canvas._tkcanvas.pack(side=Tk.TOP, fill=Tk.BOTH, expand=1)\n",
    "\n",
    "gs = gridspec.GridSpec(2,6)\n",
    "\n",
    "with sns.axes_style(\"white\"):\n",
    "    # empty subplot for scattered data\n",
    "    ax = fig.add_subplot(gs[0,:4])\n",
    "    # empty subplot for lightcurves\n",
    "    ax2 = fig.add_subplot(gs[1,:])\n",
    "    # empty subplot for center detail\n",
    "    ax3 = fig.add_subplot(gs[0,4:])\n",
    "\n",
    "def read_kepler_curve(Q,index):\n",
    "    \"\"\"\n",
    "    Given the path of a fits file, this will extract the light curve and normalize it.\n",
    "    \"\"\"\n",
    "    file = Q.fitsDir+Q.filesSample[index]\n",
    "    lc = pyfits.getdata(file)\n",
    "    t = lc.field('TIME')\n",
    "    f = lc.field('PDCSAP_FLUX')\n",
    "    err = lc.field('PDCSAP_FLUX_ERR')\n",
    "\n",
    "    err = err[np.isfinite(t)]\n",
    "    f = f[np.isfinite(t)]\n",
    "    t = t[np.isfinite(t)]\n",
    "    err = err[np.isfinite(f)]\n",
    "    t = t[np.isfinite(f)]\n",
    "    f = f[np.isfinite(f)]\n",
    "    err = err/np.median(f)\n",
    "    nf = f / np.median(f)\n",
    "\n",
    "    return t, nf, err\n",
    "    \n",
    "def distance(point, event):\n",
    "    \"\"\"Return distance between mouse position and given data point\n",
    "\n",
    "    Args:\n",
    "        point (np.array): np.array of shape (3,), with x,y,z in data coords\n",
    "        event (MouseEvent): mouse event (which contains mouse position in .x and .xdata)\n",
    "    Returns:\n",
    "        distance (np.float64): distance (in screen coords) between mouse pos and data point\n",
    "    \"\"\"\n",
    "    assert point.shape == (2,), \"distance: point.shape is wrong: %s, must be (2,)\" % point.shape\n",
    "    x2,y2 = ax.transData.transform((point[0],point[1]))\n",
    "\n",
    "    return np.sqrt ((x2 - event.x)**2 + (y2 - event.y)**2)\n",
    "\n",
    "def calcClosestDatapoint(XT, event):\n",
    "    \"\"\"Calculate which data point is closest to the mouse position.\n",
    "\n",
    "    Args:\n",
    "        XT (np.array) - array of points, of shape (numPoints, 2)\n",
    "        event (MouseEvent) - mouse event (containing mouse position)\n",
    "    Returns:\n",
    "        smallestIndex (int) - the index (into the array of points X) of the element closest to the mouse position\n",
    "    \"\"\"\n",
    "    distances = [distance (XT[:,i], event) for i in range(XT.shape[1])]\n",
    "\n",
    "    return np.argmin(distances)\n",
    "\n",
    "def drawData(index):\n",
    "    # Plots the lightcurve of the point chosen\n",
    "    ax2.cla()\n",
    "\n",
    "    t,nf,err=read_kepler_curve(Q,index)\n",
    "\n",
    "    x=t\n",
    "    y=nf\n",
    "\n",
    "    axrange=0.55*(max(y)-min(y))\n",
    "    mid=(max(y)+min(y))/2\n",
    "    yaxmin = mid-axrange\n",
    "    yaxmax = mid+axrange\n",
    "    if yaxmin < .95:\n",
    "        if yaxmax > 1.05:\n",
    "            ax2.set_ylim(yaxmin,yaxmax)\n",
    "        else:\n",
    "            ax2.set_ylim(yaxmin,1.05)\n",
    "    elif yaxmax > 1.05:\n",
    "        ax2.set_ylim(.95,yaxmax)\n",
    "    else:\n",
    "        ax2.set_ylim(.95,1.05)\n",
    "\n",
    "    if files[index] in files_cluster:\n",
    "        color = 'blue'\n",
    "    else:\n",
    "        color = 'red'\n",
    "    ax2.plot(x, y, 'o',markeredgecolor='none', c=color, alpha=0.2)\n",
    "    ax2.plot(x, y, '-',markeredgecolor='none', c=color, alpha=0.7)\n",
    "    #ax2.set_title(files[index][:13],fontsize = 20)\n",
    "    ax2.set_xlabel('Time (Days)',fontsize=22)\n",
    "    ax2.set_ylabel(r'$\\frac{\\Delta F}{F}$',fontsize=30)\n",
    "\n",
    "    fig.suptitle(files[index][:13],fontsize=30)\n",
    "\n",
    "    canvas.draw()\n",
    "\n",
    "def annotatePt(XT, index):\n",
    "    \"\"\"Create popover label in 3d chart\n",
    "\n",
    "    Args:\n",
    "        X (np.array) - array of points, of shape (numPoints, 3)\n",
    "        index (int) - index (into points array X) of item which should be printed\n",
    "    Returns:\n",
    "        None\n",
    "    \"\"\"\n",
    "    x2, y2 = XT[index][0], XT[index][1]\n",
    "    # Either update the position, or create the annotation\n",
    "    if hasattr(annotatePt, 'label'):\n",
    "        annotatePt.label.remove()\n",
    "        annotatePt.emph.remove()\n",
    "    if hasattr(annotatePt, 'emphCD'):\n",
    "        annotatePt.emphCD.remove()\n",
    "\n",
    "    # Get data point from array of points X, at position index\n",
    "    annotatePt.label = ax.annotate( \"\",\n",
    "        xy = (x2, y2), xytext = (x2+10, y2+10),\n",
    "        arrowprops = dict(headlength=20,headwidth=20,width=6,shrink=.1,color='red'))\n",
    "    annotatePt.emph = ax.scatter(x2,y2,marker='o',s=50,c='red')\n",
    "    if files[index] in files_cluster:\n",
    "        annotatePt.emphCD = ax3.scatter(x2,y2,marker='o',s=150,c='red')\n",
    "    else:\n",
    "        annotatePt.emphCD = ax.scatter(x2,y2,marker='o',s=50,c='red')\n",
    "    canvas.draw()\n",
    "\n",
    "\n",
    "def onMouseClick(event, X):\n",
    "    \"\"\"Event that is triggered when mouse is clicked. Shows lightcurve for data point closest to mouse.\"\"\"\n",
    "    XT = np.array(X.T) # array organized by feature, each in it's own array\n",
    "    closestIndex = calcClosestDatapoint(XT, event)\n",
    "    drawData(closestIndex)\n",
    "\n",
    "def onMouseRelease(event, X):\n",
    "    XT = np.array(X.T)\n",
    "    closestIndex = calcClosestDatapoint(XT, event)\n",
    "    annotatePt(X,closestIndex)\n",
    "    #for centerIndex in centerIndices:\n",
    "    #    annotateCenter(XT,centerIndex)\n",
    "\n",
    "def connect(X):\n",
    "    if hasattr(connect,'cidpress'):\n",
    "        fig.canvas.mpl_disconnect(connect.cidpress)\n",
    "    if hasattr(connect,'cidrelease'):\n",
    "        fig.canvas.mpl_disconnect(connect.cidrelease)\n",
    "\n",
    "    connect.cidpress = fig.canvas.mpl_connect('button_press_event', lambda event: onMouseClick(event,X))\n",
    "    connect.cidrelease = fig.canvas.mpl_connect('button_release_event', lambda event: onMouseRelease(event, X))\n",
    "\n",
    "def _delete_window():\n",
    "    print(\"window closed.\")\n",
    "    root.destroy()\n",
    "    sys.exit()\n",
    "    \n",
    "def redraw():       \n",
    "    # Clear the existing plots\n",
    "    ax.cla()\n",
    "    ax2.cla()\n",
    "    ax3.cla()\n",
    "    # Set those labels\n",
    "    ax.set_xlabel(\"T-SNE X\",fontsize=18)\n",
    "    ax.set_ylabel(\"T-SNE Y\",fontsize=18)\n",
    "    # Scatter the data\n",
    "    ax.scatter(outX, outY,c=\"black\",s=30,cmap='jet')\n",
    "\n",
    "    ax.hexbin(clusterX,clusterY,mincnt=5,bins=\"log\",cmap=\"inferno\",gridsize=35)\n",
    "    hb = ax3.hexbin(clusterX,clusterY,mincnt=5,bins=\"log\",cmap=\"inferno\",gridsize=35)\n",
    "    cb = fig.colorbar(hb)\n",
    "    \"\"\"\n",
    "    ax.scatter(clusterX,clusterY,s=30,c='g')\n",
    "    ax3.scatter(clusterX,clusterY)\n",
    "    \"\"\"\n",
    "    ax3.set_title(\"Center Density Detail\")\n",
    "    ax3.set_xlabel(\"T-SNE X\",fontsize=18)\n",
    "    ax3.set_ylabel(\"T-SNE Y\",fontsize=18)\n",
    "\n",
    "    if hasattr(redraw,'cidenter'):\n",
    "            fig.canvas.mpl_disconnect(redraw.cidenter)\n",
    "            fig.canvas.mpl_disconnect(redraw.cidexit)\n",
    "    connect(data)\n",
    "    \n",
    "    for f in Q4_excl:\n",
    "        ind = list(Q.dataSample.index).index(Q.dataSample[Q.dataSample.index.str.contains(f)].index[0])\n",
    "        annotatePt(data,ind)\n",
    "        drawData(ind)\n",
    "        fig.savefig('/home/dgiles/Documents/KeplerLCs/Plots/Q4_excl_outliers/%s_%s.png'%(f,quarter))\n",
    "    \n",
    "    annotatePt(data,tabbyInd)\n",
    "    drawData(tabbyInd)\n",
    "    #fig.savefig('/home/dgiles/Documents/KeplerLCs/Plots/%s/tabby.png'%quarter)\n",
    "    \n",
    "    canvas.draw()\n",
    "    #canvas.show()\n",
    "    _delete_window()\n",
    "    \n",
    "print(\"Plotting.\")\n",
    "redraw()\n",
    "\n",
    "root.protocol(\"WM_DELETE_WINDOW\",_delete_window)\n",
    "root.mainloop()"
   ]
  },
  {
   "cell_type": "code",
   "execution_count": 52,
   "metadata": {
    "collapsed": false
   },
   "outputs": [
    {
     "data": {
      "text/plain": [
       "'/home/dgiles/Documents/KeplerLCs/output/Q16_Sample.csv'"
      ]
     },
     "execution_count": 52,
     "metadata": {},
     "output_type": "execute_result"
    }
   ],
   "source": [
    "fitsDir\n",
    "featCSV"
   ]
  },
  {
   "cell_type": "code",
   "execution_count": 53,
   "metadata": {
    "collapsed": false
   },
   "outputs": [],
   "source": [
    "Q_dict = {'Q16':clusterOutliers(featCSV,fitsDir)}"
   ]
  },
  {
   "cell_type": "code",
   "execution_count": 60,
   "metadata": {
    "collapsed": false
   },
   "outputs": [
    {
     "data": {
      "text/plain": [
       "{'a': None}"
      ]
     },
     "execution_count": 60,
     "metadata": {},
     "output_type": "execute_result"
    }
   ],
   "source": [
    "adict.fromkeys(adict)"
   ]
  },
  {
   "cell_type": "code",
   "execution_count": 55,
   "metadata": {
    "collapsed": false
   },
   "outputs": [
    {
     "name": "stdout",
     "output_type": "stream",
     "text": [
      "Creating random file list...\n"
     ]
    },
    {
     "data": {
      "text/plain": [
       "Index([u'kplr012883963-2013098041711_llc.fits',\n",
       "       u'kplr008265196-2013098041711_llc.fits',\n",
       "       u'kplr011766896-2013098041711_llc.fits',\n",
       "       u'kplr010919392-2013098041711_llc.fits',\n",
       "       u'kplr005215420-2013098041711_llc.fits',\n",
       "       u'kplr004372606-2013098041711_llc.fits',\n",
       "       u'kplr008005746-2013098041711_llc.fits',\n",
       "       u'kplr006391896-2013098041711_llc.fits',\n",
       "       u'kplr007183538-2013098041711_llc.fits',\n",
       "       u'kplr012403092-2013098041711_llc.fits',\n",
       "       ...\n",
       "       u'kplr008159072-2013098041711_llc.fits',\n",
       "       u'kplr005783173-2013098041711_llc.fits',\n",
       "       u'kplr007622978-2013098041711_llc.fits',\n",
       "       u'kplr012644712-2013098041711_llc.fits',\n",
       "       u'kplr012315436-2013098041711_llc.fits',\n",
       "       u'kplr007944038-2013098041711_llc.fits',\n",
       "       u'kplr012834073-2013098041711_llc.fits',\n",
       "       u'kplr002443037-2013098041711_llc.fits',\n",
       "       u'kplr005522970-2013098041711_llc.fits',\n",
       "       u'kplr008950549-2013098041711_llc.fits'],\n",
       "      dtype='object', length=5000)"
      ]
     },
     "execution_count": 55,
     "metadata": {},
     "output_type": "execute_result"
    }
   ],
   "source": [
    "adict['a'].randSample(5000)"
   ]
  },
  {
   "cell_type": "code",
   "execution_count": 122,
   "metadata": {
    "collapsed": false
   },
   "outputs": [
    {
     "ename": "AttributeError",
     "evalue": "'clusterOutliers' object has no attribute 'pca_fit'",
     "output_type": "error",
     "traceback": [
      "\u001b[1;31m---------------------------------------------------------------------------\u001b[0m",
      "\u001b[1;31mAttributeError\u001b[0m                            Traceback (most recent call last)",
      "\u001b[1;32m<ipython-input-122-913c23907230>\u001b[0m in \u001b[0;36m<module>\u001b[1;34m()\u001b[0m\n\u001b[0;32m      1\u001b[0m \u001b[1;32mfrom\u001b[0m \u001b[0mclusterOutliers\u001b[0m \u001b[1;32mimport\u001b[0m \u001b[0mclusterOutliers\u001b[0m\u001b[1;33m\u001b[0m\u001b[0m\n\u001b[1;32m----> 2\u001b[1;33m \u001b[0mQ4\u001b[0m\u001b[1;33m.\u001b[0m\u001b[0mpca_fit\u001b[0m\u001b[1;33m(\u001b[0m\u001b[0mQ4\u001b[0m\u001b[1;33m.\u001b[0m\u001b[0mdataSample\u001b[0m\u001b[1;33m)\u001b[0m\u001b[1;33m\u001b[0m\u001b[0m\n\u001b[0m",
      "\u001b[1;31mAttributeError\u001b[0m: 'clusterOutliers' object has no attribute 'pca_fit'"
     ]
    }
   ],
   "source": []
  },
  {
   "cell_type": "code",
   "execution_count": null,
   "metadata": {
    "collapsed": true
   },
   "outputs": [],
   "source": []
  }
 ],
 "metadata": {
  "anaconda-cloud": {},
  "kernelspec": {
   "display_name": "Python 2",
   "language": "python",
   "name": "python2"
  },
  "language_info": {
   "codemirror_mode": {
    "name": "ipython",
    "version": 2
   },
   "file_extension": ".py",
   "mimetype": "text/x-python",
   "name": "python",
   "nbconvert_exporter": "python",
   "pygments_lexer": "ipython2",
   "version": "2.7.11"
  }
 },
 "nbformat": 4,
 "nbformat_minor": 0
}
